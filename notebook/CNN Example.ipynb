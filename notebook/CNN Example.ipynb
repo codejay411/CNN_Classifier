{
 "cells": [
  {
   "cell_type": "code",
   "execution_count": 4,
   "id": "9b9b9c29",
   "metadata": {},
   "outputs": [],
   "source": [
    "import tensorflow as tf\n",
    "import os\n",
    "from tqdm import tqdm\n",
    "import urllib.request as req"
   ]
  },
  {
   "cell_type": "code",
   "execution_count": 3,
   "id": "86c063eb",
   "metadata": {},
   "outputs": [],
   "source": [
    "# ! pip install tqdm"
   ]
  },
  {
   "cell_type": "code",
   "execution_count": 5,
   "id": "26e18c78",
   "metadata": {},
   "outputs": [],
   "source": [
    "SOURCE_URL = \"https://download.microsoft.com/download/3/E/1/3E1C3F21-ECDB-4869-8368-6DEBA77B919F/kagglecatsanddogs_3367a.zip\""
   ]
  },
  {
   "cell_type": "code",
   "execution_count": 6,
   "id": "6a2f171e",
   "metadata": {},
   "outputs": [],
   "source": [
    "DESTINATION = \"data\"\n",
    "os.makedirs(DESTINATION, exist_ok=True)\n",
    "data_file = \"data.zip\"\n",
    "\n",
    "DESTINATION_ZIP_PATH = os.path.join(DESTINATION, data_file)"
   ]
  },
  {
   "cell_type": "code",
   "execution_count": null,
   "id": "7f2a7af6",
   "metadata": {},
   "outputs": [],
   "source": []
  }
 ],
 "metadata": {
  "kernelspec": {
   "display_name": "Python 3 (ipykernel)",
   "language": "python",
   "name": "python3"
  },
  "language_info": {
   "codemirror_mode": {
    "name": "ipython",
    "version": 3
   },
   "file_extension": ".py",
   "mimetype": "text/x-python",
   "name": "python",
   "nbconvert_exporter": "python",
   "pygments_lexer": "ipython3",
   "version": "3.7.13"
  }
 },
 "nbformat": 4,
 "nbformat_minor": 5
}
