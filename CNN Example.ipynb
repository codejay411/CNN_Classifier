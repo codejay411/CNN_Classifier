{
 "cells": [
  {
   "cell_type": "code",
   "execution_count": 1,
   "id": "5bc27564",
   "metadata": {},
   "outputs": [],
   "source": [
    "import tensorflow as tf\n",
    "import os\n",
    "from tqdm import tqdm\n",
    "import urllib.request as req"
   ]
  },
  {
   "cell_type": "code",
   "execution_count": 2,
   "id": "3d83eed6",
   "metadata": {},
   "outputs": [],
   "source": [
    "# ! pip install tqdm"
   ]
  },
  {
   "cell_type": "code",
   "execution_count": 3,
   "id": "01e075a7",
   "metadata": {},
   "outputs": [],
   "source": [
    "SOURCE_URL = \"https://download.microsoft.com/download/3/E/1/3E1C3F21-ECDB-4869-8368-6DEBA77B919F/kagglecatsanddogs_3367a.zip\""
   ]
  },
  {
   "cell_type": "code",
   "execution_count": 4,
   "id": "de290c3e",
   "metadata": {},
   "outputs": [],
   "source": [
    "DESTINATION = \"data\"\n",
    "os.makedirs(DESTINATION, exist_ok=True)\n",
    "data_file = \"data.zip\"\n",
    "\n",
    "DESTINATION_ZIP_PATH = os.path.join(DESTINATION, data_file)"
   ]
  },
  {
   "cell_type": "code",
   "execution_count": null,
   "id": "dcc047f4",
   "metadata": {},
   "outputs": [],
   "source": [
    "filename, headers = req.urlretrieve(SOURCE_URL, DESTINATION_ZIP_PATH)"
   ]
  },
  {
   "cell_type": "code",
   "execution_count": null,
   "id": "87934e79",
   "metadata": {},
   "outputs": [],
   "source": [
    "filename"
   ]
  },
  {
   "cell_type": "code",
   "execution_count": null,
   "id": "7d4d0ee1",
   "metadata": {},
   "outputs": [],
   "source": [
    "print(headers)"
   ]
  },
  {
   "cell_type": "code",
   "execution_count": null,
   "id": "9febc111",
   "metadata": {},
   "outputs": [],
   "source": [
    "from zipfile import ZipFile\n",
    "\n",
    "with ZipFile(filename, \"r\") as zip_f:\n",
    "    zip_f.extractall(\"data/\")"
   ]
  },
  {
   "cell_type": "code",
   "execution_count": null,
   "id": "4caff1aa",
   "metadata": {},
   "outputs": [],
   "source": [
    "TARGET_DATA_DIRS = [\"Cat\", \"Dog\"]\n",
    "PARENT_DIR = os.path.join(\"data\",\"PetImages\")"
   ]
  },
  {
   "cell_type": "code",
   "execution_count": null,
   "id": "a0b0e8b1",
   "metadata": {},
   "outputs": [],
   "source": [
    "# !pip install Pillow"
   ]
  },
  {
   "cell_type": "code",
   "execution_count": null,
   "id": "a6933f5e",
   "metadata": {},
   "outputs": [],
   "source": [
    "from PIL import Image"
   ]
  },
  {
   "cell_type": "code",
   "execution_count": null,
   "id": "2f065f6c",
   "metadata": {},
   "outputs": [],
   "source": [
    "BAD_DATA_DIR = \"bad_data\"\n",
    "os.makedirs(BAD_DATA_DIR, exist_ok=True)"
   ]
  },
  {
   "cell_type": "code",
   "execution_count": null,
   "id": "85f7fdf8",
   "metadata": {},
   "outputs": [],
   "source": [
    "img = Image.open(r\"C:\\jay\\Deep Learning classes\\CNN_Classifier\\notebook\\data\\PetImages\\Dog\\4.jpg\")\n",
    "img.format"
   ]
  },
  {
   "cell_type": "code",
   "execution_count": null,
   "id": "a56f6f1b",
   "metadata": {},
   "outputs": [],
   "source": [
    "if img.format in ['JPEG', 'PNG', 'GIF', 'BMP']:\n",
    "    print('hello')"
   ]
  },
  {
   "cell_type": "code",
   "execution_count": null,
   "id": "b05d7f3d",
   "metadata": {},
   "outputs": [],
   "source": [
    "import shutil\n",
    "import imghdr"
   ]
  },
  {
   "cell_type": "code",
   "execution_count": null,
   "id": "b2776366",
   "metadata": {},
   "outputs": [],
   "source": [
    "for dirs in os.listdir(PARENT_DIR):\n",
    "    full_path_data_dir = os.path.join(PARENT_DIR, dirs)\n",
    "    for imgs in os.listdir(full_path_data_dir):\n",
    "        path_to_img = os.path.join(full_path_data_dir, imgs)\n",
    "        try:\n",
    "            img = Image.open(path_to_img)\n",
    "            img.verify()\n",
    "                \n",
    "#             if len(img.getbands()) !=3 or imghdr.what(path_to_img) not in ['jpeg','png']:\n",
    "#                 bad_data_path = os.path.join(BAD_DATA_DIR, imgs)\n",
    "#                 shutil.move(path_to_img, bad_data_path)\n",
    "#                 continue\n",
    "                \n",
    "#             print(f\"{path_to_img} is verified with format {imghdr.what(path_to_img)}\")\n",
    "        except Exception as e:\n",
    "            print(f\"{path_to_img} is bad !\")\n",
    "            bad_data_path = os.path.join(BAD_DATA_DIR, imgs)\n",
    "            shutil.move(path_to_img, bad_data_path)"
   ]
  },
  {
   "cell_type": "code",
   "execution_count": null,
   "id": "d9ca7c61",
   "metadata": {},
   "outputs": [],
   "source": [
    "IMG_SIZE = (180, 180)\n",
    "BATCH_SIZE = 32"
   ]
  },
  {
   "cell_type": "code",
   "execution_count": null,
   "id": "7ce2384c",
   "metadata": {},
   "outputs": [],
   "source": [
    "train_ds = tf.keras.preprocessing.image_dataset_from_directory(\n",
    "    PARENT_DIR,\n",
    "    validation_split=0.2,\n",
    "    subset=\"training\",\n",
    "    seed=42,\n",
    "    image_size=IMG_SIZE,\n",
    "    batch_size=BATCH_SIZE\n",
    ")\n",
    "\n",
    "val_ds = tf.keras.preprocessing.image_dataset_from_directory(\n",
    "    PARENT_DIR,\n",
    "    validation_split=0.2,\n",
    "    subset=\"validation\",\n",
    "    seed=42,\n",
    "    image_size=IMG_SIZE,\n",
    "    batch_size=BATCH_SIZE\n",
    ")"
   ]
  },
  {
   "cell_type": "code",
   "execution_count": null,
   "id": "c23cf151",
   "metadata": {},
   "outputs": [],
   "source": [
    "### Create a log dir for tensorboard logs\n",
    "\n",
    "import time\n",
    "\n",
    "def get_log_path(base_log_dir=os.path.join(\"logs\",\"fit\")):\n",
    "    uniqueName = time.asctime().replace(\" \", \"_\").replace(\":\", \"\")\n",
    "    log_path = os.path.join(base_log_dir, uniqueName)\n",
    "    print(f\"saving logs at: {log_path}\")\n",
    "    return log_path\n",
    "\n",
    "log_dir = get_log_path()"
   ]
  },
  {
   "cell_type": "code",
   "execution_count": null,
   "id": "164d2b3b",
   "metadata": {},
   "outputs": [],
   "source": [
    "file_writer = tf.summary.create_file_writer(logdir=log_dir)"
   ]
  },
  {
   "cell_type": "code",
   "execution_count": null,
   "id": "1489ecff",
   "metadata": {},
   "outputs": [],
   "source": [
    "for images, labels in train_ds.take(1):\n",
    "    print(images.shape, labels)"
   ]
  },
  {
   "cell_type": "code",
   "execution_count": null,
   "id": "6acd2b0e",
   "metadata": {},
   "outputs": [],
   "source": [
    "import numpy as np"
   ]
  },
  {
   "cell_type": "code",
   "execution_count": null,
   "id": "94eaadde",
   "metadata": {},
   "outputs": [],
   "source": [
    "with file_writer.as_default():\n",
    "    images = np.array(images) ### (20, 28, 28, 1)\n",
    "\n",
    "    tf.summary.image(\"samples\", images.astype(\"uint8\"), max_outputs=25, step=0)"
   ]
  },
  {
   "cell_type": "code",
   "execution_count": null,
   "id": "dd4f8551",
   "metadata": {},
   "outputs": [],
   "source": []
  }
 ],
 "metadata": {
  "kernelspec": {
   "display_name": "Python 3 (ipykernel)",
   "language": "python",
   "name": "python3"
  },
  "language_info": {
   "codemirror_mode": {
    "name": "ipython",
    "version": 3
   },
   "file_extension": ".py",
   "mimetype": "text/x-python",
   "name": "python",
   "nbconvert_exporter": "python",
   "pygments_lexer": "ipython3",
   "version": "3.7.13"
  }
 },
 "nbformat": 4,
 "nbformat_minor": 5
}
